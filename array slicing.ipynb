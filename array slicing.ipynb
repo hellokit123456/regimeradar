{
 "cells": [
  {
   "cell_type": "code",
   "execution_count": 3,
   "id": "a4fdfdc0-1f2b-4e5a-ac98-9ac322a615a1",
   "metadata": {},
   "outputs": [
    {
     "name": "stdout",
     "output_type": "stream",
     "text": [
      "Original 1D Array:\n",
      " [ 52  93  15  72  61  21  83  87  75  75  88 100  24   3  22  53   2  88\n",
      "  30  38]\n"
     ]
    }
   ],
   "source": [
    "import numpy as np\n",
    "np.random.seed(42)\n",
    "array_1d = np.random.randint(1, 101, size=20)\n",
    "print(\"Original 1D Array:\\n\", array_1d)\n"
   ]
  },
  {
   "cell_type": "code",
   "execution_count": 5,
   "id": "ef7a465f-19a7-4237-b5d0-665a112a659e",
   "metadata": {},
   "outputs": [
    {
     "name": "stdout",
     "output_type": "stream",
     "text": [
      "\n",
      "Mean: 54.1\n",
      "Median: 57.0\n",
      "Standard Deviation: 31.472051092993606\n"
     ]
    }
   ],
   "source": [
    "mean_val = np.mean(array_1d)\n",
    "median_val = np.median(array_1d)\n",
    "std_val = np.std(array_1d)\n",
    "\n",
    "print(\"\\nMean:\", mean_val)\n",
    "print(\"Median:\", median_val)\n",
    "print(\"Standard Deviation:\", std_val)\n"
   ]
  },
  {
   "cell_type": "code",
   "execution_count": 7,
   "id": "d38dccac-c45d-45e8-9806-7378a65e7838",
   "metadata": {},
   "outputs": [
    {
     "name": "stdout",
     "output_type": "stream",
     "text": [
      "\n",
      "Even Numbers in the Array:\n",
      " [ 52  72  88 100  24  22   2  88  30  38]\n"
     ]
    }
   ],
   "source": [
    "even_numbers = array_1d[array_1d % 2 == 0]\n",
    "print(\"\\nEven Numbers in the Array:\\n\", even_numbers)\n"
   ]
  },
  {
   "cell_type": "code",
   "execution_count": 9,
   "id": "327396a5-35ed-4289-9e9d-9de29014dd07",
   "metadata": {},
   "outputs": [
    {
     "name": "stdout",
     "output_type": "stream",
     "text": [
      "\n",
      "2D Array (5x4):\n",
      " [[ 2 64 60 21]\n",
      " [33 76 58 22]\n",
      " [89 49 91 59]\n",
      " [42 92 60 80]\n",
      " [15 62 62 47]]\n",
      "\n",
      "First Three Rows:\n",
      " [[ 2 64 60 21]\n",
      " [33 76 58 22]\n",
      " [89 49 91 59]]\n"
     ]
    }
   ],
   "source": [
    "array_2d = np.random.randint(1, 101, size=(5, 4))\n",
    "print(\"\\n2D Array (5x4):\\n\", array_2d)\n",
    "first_three_rows = array_2d[:3, :]\n",
    "print(\"\\nFirst Three Rows:\\n\", first_three_rows)\n"
   ]
  },
  {
   "cell_type": "code",
   "execution_count": null,
   "id": "6346677c-58ab-43c6-a9bf-3cb3d0935bfc",
   "metadata": {},
   "outputs": [],
   "source": []
  }
 ],
 "metadata": {
  "kernelspec": {
   "display_name": "Python [conda env:base] *",
   "language": "python",
   "name": "conda-base-py"
  },
  "language_info": {
   "codemirror_mode": {
    "name": "ipython",
    "version": 3
   },
   "file_extension": ".py",
   "mimetype": "text/x-python",
   "name": "python",
   "nbconvert_exporter": "python",
   "pygments_lexer": "ipython3",
   "version": "3.12.7"
  }
 },
 "nbformat": 4,
 "nbformat_minor": 5
}
