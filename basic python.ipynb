{
 "cells": [
  {
   "cell_type": "code",
   "execution_count": 1,
   "id": "312ca713-5a8b-4a30-84b4-494ef662a698",
   "metadata": {},
   "outputs": [
    {
     "name": "stdout",
     "output_type": "stream",
     "text": [
      "Area of circle with radius 5: 78.53981633974483\n"
     ]
    }
   ],
   "source": [
    "import math\n",
    "def calculate_area(radius):\n",
    "    return math.pi * radius ** 2\n",
    "print(\"Area of circle with radius 5:\", calculate_area(5))\n",
    "\n"
   ]
  },
  {
   "cell_type": "code",
   "execution_count": 3,
   "id": "71031ed9-0d0a-4065-a72b-c3b3d537a8f8",
   "metadata": {},
   "outputs": [
    {
     "name": "stdout",
     "output_type": "stream",
     "text": [
      "Is 7 prime? True\n"
     ]
    }
   ],
   "source": [
    "def is_prime(num):\n",
    "   \n",
    "    if num < 2:\n",
    "        return False\n",
    "    for i in range(2, int(math.sqrt(num)) + 1):\n",
    "        if num % i == 0:\n",
    "            return False\n",
    "    return True\n",
    "\n",
    "\n",
    "print(\"Is 7 prime?\", is_prime(7))\n"
   ]
  },
  {
   "cell_type": "code",
   "execution_count": 5,
   "id": "2516d935-a5c0-4c50-80bb-0ed54baedd0a",
   "metadata": {},
   "outputs": [
    {
     "name": "stdout",
     "output_type": "stream",
     "text": [
      "\n",
      "Prime numbers between 1 and 50:\n",
      "2 3 5 7 11 13 17 19 23 29 31 37 41 43 47 "
     ]
    }
   ],
   "source": [
    "numbers = list(range(1, 51))\n",
    "print(\"\\nPrime numbers between 1 and 50:\")\n",
    "for num in numbers:\n",
    "    if is_prime(num):\n",
    "        print(num, end=' ')\n"
   ]
  },
  {
   "cell_type": "code",
   "execution_count": 7,
   "id": "76092cf9-8f04-4d33-b5cc-b7b63dbfde59",
   "metadata": {},
   "outputs": [
    {
     "name": "stdout",
     "output_type": "stream",
     "text": [
      "\n",
      "\n",
      "Squares of first 10 integers:\n",
      "[1, 4, 9, 16, 25, 36, 49, 64, 81, 100]\n"
     ]
    }
   ],
   "source": [
    "squares = [x ** 2 for x in range(1, 11)]\n",
    "print(\"\\n\\nSquares of first 10 integers:\")\n",
    "print(squares)\n"
   ]
  },
  {
   "cell_type": "code",
   "execution_count": null,
   "id": "359889e1-7d7a-4526-8e3b-5b0dc03940f6",
   "metadata": {},
   "outputs": [],
   "source": []
  }
 ],
 "metadata": {
  "kernelspec": {
   "display_name": "Python [conda env:base] *",
   "language": "python",
   "name": "conda-base-py"
  },
  "language_info": {
   "codemirror_mode": {
    "name": "ipython",
    "version": 3
   },
   "file_extension": ".py",
   "mimetype": "text/x-python",
   "name": "python",
   "nbconvert_exporter": "python",
   "pygments_lexer": "ipython3",
   "version": "3.12.7"
  }
 },
 "nbformat": 4,
 "nbformat_minor": 5
}
