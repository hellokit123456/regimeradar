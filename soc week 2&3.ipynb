{
 "cells": [
  {
   "cell_type": "code",
   "execution_count": 1,
   "id": "9db9dde4-c6d3-4776-a4d0-2cafec85fcc0",
   "metadata": {},
   "outputs": [
    {
     "ename": "ModuleNotFoundError",
     "evalue": "No module named 'google.colab'",
     "output_type": "error",
     "traceback": [
      "\u001b[1;31m---------------------------------------------------------------------------\u001b[0m",
      "\u001b[1;31mModuleNotFoundError\u001b[0m                       Traceback (most recent call last)",
      "Cell \u001b[1;32mIn[1], line 2\u001b[0m\n\u001b[0;32m      1\u001b[0m \u001b[38;5;66;03m# Mount Google Drive\u001b[39;00m\n\u001b[1;32m----> 2\u001b[0m \u001b[38;5;28;01mfrom\u001b[39;00m \u001b[38;5;21;01mgoogle\u001b[39;00m\u001b[38;5;21;01m.\u001b[39;00m\u001b[38;5;21;01mcolab\u001b[39;00m \u001b[38;5;28;01mimport\u001b[39;00m drive\n\u001b[0;32m      3\u001b[0m drive\u001b[38;5;241m.\u001b[39mmount(\u001b[38;5;124m'\u001b[39m\u001b[38;5;124m/content/drive\u001b[39m\u001b[38;5;124m'\u001b[39m)\n",
      "\u001b[1;31mModuleNotFoundError\u001b[0m: No module named 'google.colab'"
     ]
    }
   ],
   "source": [
    "# Mount Google Drive\n",
    "from google.colab import drive\n",
    "drive.mount('/content/drive')\n"
   ]
  },
  {
   "cell_type": "code",
   "execution_count": 3,
   "id": "d157407c-1086-4974-b93e-4358511f3179",
   "metadata": {},
   "outputs": [],
   "source": [
    "import pandas as pd\n",
    "import numpy as np\n",
    "import os"
   ]
  },
  {
   "cell_type": "code",
   "execution_count": null,
   "id": "e2bcbaff-af48-4c7b-b9cf-e5c684f21374",
   "metadata": {},
   "outputs": [],
   "source": [
    "depth20_folder = '/content/drive/MyDrive/Colab Notebooks/depth20_1000ms'\n",
    "aggtrade_folder = '/content/drive/MyDrive/Colab Notebooks/aggTrade'\n"
   ]
  },
  {
   "cell_type": "code",
   "execution_count": 5,
   "id": "536df9f4-6e79-4700-a804-0a2e574dcc44",
   "metadata": {},
   "outputs": [],
   "source": [
    "# Function to merge all .txt files from a folder\n",
    "def merge_txt_files(folder_path):\n",
    "    all_dfs = []\n",
    "    for file in os.listdir(folder_path):\n",
    "        if file.endswith('.txt'):\n",
    "            file_path = os.path.join(folder_path, file)\n",
    "            df = pd.read_csv(file_path)\n",
    "            all_dfs.append(df)\n",
    "    return pd.concat(all_dfs, ignore_index=True)"
   ]
  },
  {
   "cell_type": "code",
   "execution_count": 7,
   "id": "061d70af-3f93-4406-be38-c1ff5e667ac4",
   "metadata": {},
   "outputs": [
    {
     "ename": "NameError",
     "evalue": "name 'depth20_folder' is not defined",
     "output_type": "error",
     "traceback": [
      "\u001b[1;31m---------------------------------------------------------------------------\u001b[0m",
      "\u001b[1;31mNameError\u001b[0m                                 Traceback (most recent call last)",
      "Cell \u001b[1;32mIn[7], line 2\u001b[0m\n\u001b[0;32m      1\u001b[0m \u001b[38;5;66;03m# Merge files\u001b[39;00m\n\u001b[1;32m----> 2\u001b[0m depth20_df \u001b[38;5;241m=\u001b[39m merge_txt_files(depth20_folder)\n\u001b[0;32m      3\u001b[0m aggtrade_df \u001b[38;5;241m=\u001b[39m merge_txt_files(aggtrade_folder)\n",
      "\u001b[1;31mNameError\u001b[0m: name 'depth20_folder' is not defined"
     ]
    }
   ],
   "source": [
    "# Merge files\n",
    "depth20_df = merge_txt_files(depth20_folder)\n",
    "aggtrade_df = merge_txt_files(aggtrade_folder)"
   ]
  },
  {
   "cell_type": "code",
   "execution_count": 9,
   "id": "64152828-9135-46a1-a52b-dd3247412703",
   "metadata": {},
   "outputs": [],
   "source": [
    "\n",
    "# Robust time parser\n",
    "def parse_time(val):\n",
    "    if pd.isna(val):\n",
    "        return np.nan\n",
    "    val = str(val).replace('+0530 IST', '').strip()"
   ]
  },
  {
   "cell_type": "code",
   "execution_count": 13,
   "id": "5a153982-6a40-4811-b480-dd2d07a8b504",
   "metadata": {},
   "outputs": [
    {
     "ename": "IndentationError",
     "evalue": "unexpected indent (2805841902.py, line 2)",
     "output_type": "error",
     "traceback": [
      "\u001b[1;36m  Cell \u001b[1;32mIn[13], line 2\u001b[1;36m\u001b[0m\n\u001b[1;33m    try:\u001b[0m\n\u001b[1;37m    ^\u001b[0m\n\u001b[1;31mIndentationError\u001b[0m\u001b[1;31m:\u001b[0m unexpected indent\n"
     ]
    }
   ],
   "source": [
    " # 1. Float minutes format\n",
    "    try:\n",
    "        return float(val) * 60\n",
    "    except ValueError:\n",
    "        pass\n",
    "\n",
    "    # 2. DateTime format\n",
    "    try:\n",
    "        from datetime import datetime\n",
    "        dt = datetime.strptime(val, '%Y-%m-%d %H:%M:%S')\n",
    "        return (dt - dt.replace(hour=0, minute=0, second=0, microsecond=0)).total_seconds()\n",
    "    except ValueError:\n",
    "        pass\n",
    "\n",
    "    # 3. Colon-separated formats\n",
    "    parts = val.split(':')\n",
    "    if len(parts) == 2:\n",
    "        try:\n",
    "            return int(parts[0]) * 60 + float(parts[1])\n",
    "        except ValueError:\n",
    "            return np.nan\n",
    "    elif len(parts) == 3:\n",
    "        try:\n",
    "            return int(parts[0]) * 3600 + int(parts[1]) * 60 + float(parts[2])\n",
    "        except ValueError:\n",
    "            return np.nan\n",
    "\n",
    "    return np.nan\n",
    "   "
   ]
  },
  {
   "cell_type": "code",
   "execution_count": 15,
   "id": "acb15034-babd-4709-984c-276e0b436c75",
   "metadata": {},
   "outputs": [
    {
     "ename": "NameError",
     "evalue": "name 'depth20_df' is not defined",
     "output_type": "error",
     "traceback": [
      "\u001b[1;31m---------------------------------------------------------------------------\u001b[0m",
      "\u001b[1;31mNameError\u001b[0m                                 Traceback (most recent call last)",
      "Cell \u001b[1;32mIn[15], line 5\u001b[0m\n\u001b[0;32m      2\u001b[0m depth20_output \u001b[38;5;241m=\u001b[39m \u001b[38;5;124m'\u001b[39m\u001b[38;5;124m/content/drive/MyDrive/Colab Notebooks/depth20_1000ms.csv\u001b[39m\u001b[38;5;124m'\u001b[39m\n\u001b[0;32m      3\u001b[0m aggtrade_output \u001b[38;5;241m=\u001b[39m \u001b[38;5;124m'\u001b[39m\u001b[38;5;124m/content/drive/MyDrive/Colab Notebooks/aggTrade.csv\u001b[39m\u001b[38;5;124m'\u001b[39m\n\u001b[1;32m----> 5\u001b[0m depth20_df\u001b[38;5;241m.\u001b[39mto_csv(depth20_output, index\u001b[38;5;241m=\u001b[39m\u001b[38;5;28;01mFalse\u001b[39;00m)\n\u001b[0;32m      6\u001b[0m aggtrade_df\u001b[38;5;241m.\u001b[39mto_csv(aggtrade_output, index\u001b[38;5;241m=\u001b[39m\u001b[38;5;28;01mFalse\u001b[39;00m)\n\u001b[0;32m      8\u001b[0m \u001b[38;5;28mprint\u001b[39m(\u001b[38;5;124m\"\u001b[39m\u001b[38;5;124mFiles merged and saved as \u001b[39m\u001b[38;5;124m'\u001b[39m\u001b[38;5;124mdepth20.csv\u001b[39m\u001b[38;5;124m'\u001b[39m\u001b[38;5;124m and \u001b[39m\u001b[38;5;124m'\u001b[39m\u001b[38;5;124maggTrade.csv\u001b[39m\u001b[38;5;124m'\u001b[39m\u001b[38;5;124m in your Drive.\u001b[39m\u001b[38;5;124m\"\u001b[39m)\n",
      "\u001b[1;31mNameError\u001b[0m: name 'depth20_df' is not defined"
     ]
    }
   ],
   "source": [
    "# Save merged DataFrames to Google Drive\n",
    "depth20_output = '/content/drive/MyDrive/Colab Notebooks/depth20_1000ms.csv'\n",
    "aggtrade_output = '/content/drive/MyDrive/Colab Notebooks/aggTrade.csv'\n",
    "\n",
    "depth20_df.to_csv(depth20_output, index=False)\n",
    "aggtrade_df.to_csv(aggtrade_output, index=False)\n",
    "\n",
    "print(\"Files merged and saved as 'depth20.csv' and 'aggTrade.csv' in your Drive.\")\n"
   ]
  },
  {
   "cell_type": "code",
   "execution_count": 17,
   "id": "ecb4fa94-0b81-4752-ae36-4b439cb23e4f",
   "metadata": {},
   "outputs": [
    {
     "ename": "NameError",
     "evalue": "name 'aggtrade_df' is not defined",
     "output_type": "error",
     "traceback": [
      "\u001b[1;31m---------------------------------------------------------------------------\u001b[0m",
      "\u001b[1;31mNameError\u001b[0m                                 Traceback (most recent call last)",
      "Cell \u001b[1;32mIn[17], line 1\u001b[0m\n\u001b[1;32m----> 1\u001b[0m \u001b[38;5;28;01mif\u001b[39;00m \u001b[38;5;129;01mnot\u001b[39;00m aggtrade_df\u001b[38;5;241m.\u001b[39mempty:\n\u001b[0;32m      2\u001b[0m     aggtrade_df[\u001b[38;5;124m'\u001b[39m\u001b[38;5;124mSeconds\u001b[39m\u001b[38;5;124m'\u001b[39m] \u001b[38;5;241m=\u001b[39m aggtrade_df[\u001b[38;5;124m'\u001b[39m\u001b[38;5;124mTime\u001b[39m\u001b[38;5;124m'\u001b[39m]\u001b[38;5;241m.\u001b[39mapply(parse_time)\n\u001b[0;32m      3\u001b[0m     \u001b[38;5;66;03m# Drop rows where time parsing failed (resulting in NaN in 'Seconds')\u001b[39;00m\n",
      "\u001b[1;31mNameError\u001b[0m: name 'aggtrade_df' is not defined"
     ]
    }
   ],
   "source": [
    "\n",
    "if not aggtrade_df.empty:\n",
    "    aggtrade_df['Seconds'] = aggtrade_df['Time'].apply(parse_time)\n",
    "    # Drop rows where time parsing failed (resulting in NaN in 'Seconds')\n",
    "    aggtrade_df.dropna(subset=['Seconds'], inplace=True)\n",
    "    aggtrade_df['Second'] = aggtrade_df['Seconds'].astype(int)\n",
    "    # For example, take the last price/trade in each second\n",
    "    agg_trade_1s = aggtrade_df.groupby('Second').last().reset_index()\n",
    "    print(\"agg_trade_1s created successfully\")\n",
    "    display(agg_trade_1s.head())\n",
    "else:\n",
    "    print(\"aggtrade_df is empty, skipping time parsing and aggregation.\")"
   ]
  },
  {
   "cell_type": "code",
   "execution_count": 19,
   "id": "2c734538-0599-4fb5-9a18-cb15c9e89af6",
   "metadata": {},
   "outputs": [
    {
     "ename": "FileNotFoundError",
     "evalue": "[Errno 2] No such file or directory: '/content/drive/MyDrive/Colab Notebooks/depth20_1000ms.csv'",
     "output_type": "error",
     "traceback": [
      "\u001b[1;31m---------------------------------------------------------------------------\u001b[0m",
      "\u001b[1;31mFileNotFoundError\u001b[0m                         Traceback (most recent call last)",
      "Cell \u001b[1;32mIn[19], line 5\u001b[0m\n\u001b[0;32m      2\u001b[0m \u001b[38;5;28;01mimport\u001b[39;00m \u001b[38;5;21;01mmatplotlib\u001b[39;00m\u001b[38;5;21;01m.\u001b[39;00m\u001b[38;5;21;01mpyplot\u001b[39;00m \u001b[38;5;28;01mas\u001b[39;00m \u001b[38;5;21;01mplt\u001b[39;00m\n\u001b[0;32m      4\u001b[0m \u001b[38;5;66;03m# Load the datasets\u001b[39;00m\n\u001b[1;32m----> 5\u001b[0m depth20_1000ms \u001b[38;5;241m=\u001b[39m pd\u001b[38;5;241m.\u001b[39mread_csv(\u001b[38;5;124m'\u001b[39m\u001b[38;5;124m/content/drive/MyDrive/Colab Notebooks/depth20_1000ms.csv\u001b[39m\u001b[38;5;124m'\u001b[39m)\n\u001b[0;32m      6\u001b[0m agg_trade \u001b[38;5;241m=\u001b[39m pd\u001b[38;5;241m.\u001b[39mread_csv(\u001b[38;5;124m'\u001b[39m\u001b[38;5;124m/content/drive/MyDrive/Colab Notebooks/aggTrade.csv\u001b[39m\u001b[38;5;124m'\u001b[39m)\n\u001b[0;32m      8\u001b[0m \u001b[38;5;66;03m# Define the time cleaning function\u001b[39;00m\n",
      "File \u001b[1;32m~\\anaconda3\\Lib\\site-packages\\pandas\\io\\parsers\\readers.py:1026\u001b[0m, in \u001b[0;36mread_csv\u001b[1;34m(filepath_or_buffer, sep, delimiter, header, names, index_col, usecols, dtype, engine, converters, true_values, false_values, skipinitialspace, skiprows, skipfooter, nrows, na_values, keep_default_na, na_filter, verbose, skip_blank_lines, parse_dates, infer_datetime_format, keep_date_col, date_parser, date_format, dayfirst, cache_dates, iterator, chunksize, compression, thousands, decimal, lineterminator, quotechar, quoting, doublequote, escapechar, comment, encoding, encoding_errors, dialect, on_bad_lines, delim_whitespace, low_memory, memory_map, float_precision, storage_options, dtype_backend)\u001b[0m\n\u001b[0;32m   1013\u001b[0m kwds_defaults \u001b[38;5;241m=\u001b[39m _refine_defaults_read(\n\u001b[0;32m   1014\u001b[0m     dialect,\n\u001b[0;32m   1015\u001b[0m     delimiter,\n\u001b[1;32m   (...)\u001b[0m\n\u001b[0;32m   1022\u001b[0m     dtype_backend\u001b[38;5;241m=\u001b[39mdtype_backend,\n\u001b[0;32m   1023\u001b[0m )\n\u001b[0;32m   1024\u001b[0m kwds\u001b[38;5;241m.\u001b[39mupdate(kwds_defaults)\n\u001b[1;32m-> 1026\u001b[0m \u001b[38;5;28;01mreturn\u001b[39;00m _read(filepath_or_buffer, kwds)\n",
      "File \u001b[1;32m~\\anaconda3\\Lib\\site-packages\\pandas\\io\\parsers\\readers.py:620\u001b[0m, in \u001b[0;36m_read\u001b[1;34m(filepath_or_buffer, kwds)\u001b[0m\n\u001b[0;32m    617\u001b[0m _validate_names(kwds\u001b[38;5;241m.\u001b[39mget(\u001b[38;5;124m\"\u001b[39m\u001b[38;5;124mnames\u001b[39m\u001b[38;5;124m\"\u001b[39m, \u001b[38;5;28;01mNone\u001b[39;00m))\n\u001b[0;32m    619\u001b[0m \u001b[38;5;66;03m# Create the parser.\u001b[39;00m\n\u001b[1;32m--> 620\u001b[0m parser \u001b[38;5;241m=\u001b[39m TextFileReader(filepath_or_buffer, \u001b[38;5;241m*\u001b[39m\u001b[38;5;241m*\u001b[39mkwds)\n\u001b[0;32m    622\u001b[0m \u001b[38;5;28;01mif\u001b[39;00m chunksize \u001b[38;5;129;01mor\u001b[39;00m iterator:\n\u001b[0;32m    623\u001b[0m     \u001b[38;5;28;01mreturn\u001b[39;00m parser\n",
      "File \u001b[1;32m~\\anaconda3\\Lib\\site-packages\\pandas\\io\\parsers\\readers.py:1620\u001b[0m, in \u001b[0;36mTextFileReader.__init__\u001b[1;34m(self, f, engine, **kwds)\u001b[0m\n\u001b[0;32m   1617\u001b[0m     \u001b[38;5;28mself\u001b[39m\u001b[38;5;241m.\u001b[39moptions[\u001b[38;5;124m\"\u001b[39m\u001b[38;5;124mhas_index_names\u001b[39m\u001b[38;5;124m\"\u001b[39m] \u001b[38;5;241m=\u001b[39m kwds[\u001b[38;5;124m\"\u001b[39m\u001b[38;5;124mhas_index_names\u001b[39m\u001b[38;5;124m\"\u001b[39m]\n\u001b[0;32m   1619\u001b[0m \u001b[38;5;28mself\u001b[39m\u001b[38;5;241m.\u001b[39mhandles: IOHandles \u001b[38;5;241m|\u001b[39m \u001b[38;5;28;01mNone\u001b[39;00m \u001b[38;5;241m=\u001b[39m \u001b[38;5;28;01mNone\u001b[39;00m\n\u001b[1;32m-> 1620\u001b[0m \u001b[38;5;28mself\u001b[39m\u001b[38;5;241m.\u001b[39m_engine \u001b[38;5;241m=\u001b[39m \u001b[38;5;28mself\u001b[39m\u001b[38;5;241m.\u001b[39m_make_engine(f, \u001b[38;5;28mself\u001b[39m\u001b[38;5;241m.\u001b[39mengine)\n",
      "File \u001b[1;32m~\\anaconda3\\Lib\\site-packages\\pandas\\io\\parsers\\readers.py:1880\u001b[0m, in \u001b[0;36mTextFileReader._make_engine\u001b[1;34m(self, f, engine)\u001b[0m\n\u001b[0;32m   1878\u001b[0m     \u001b[38;5;28;01mif\u001b[39;00m \u001b[38;5;124m\"\u001b[39m\u001b[38;5;124mb\u001b[39m\u001b[38;5;124m\"\u001b[39m \u001b[38;5;129;01mnot\u001b[39;00m \u001b[38;5;129;01min\u001b[39;00m mode:\n\u001b[0;32m   1879\u001b[0m         mode \u001b[38;5;241m+\u001b[39m\u001b[38;5;241m=\u001b[39m \u001b[38;5;124m\"\u001b[39m\u001b[38;5;124mb\u001b[39m\u001b[38;5;124m\"\u001b[39m\n\u001b[1;32m-> 1880\u001b[0m \u001b[38;5;28mself\u001b[39m\u001b[38;5;241m.\u001b[39mhandles \u001b[38;5;241m=\u001b[39m get_handle(\n\u001b[0;32m   1881\u001b[0m     f,\n\u001b[0;32m   1882\u001b[0m     mode,\n\u001b[0;32m   1883\u001b[0m     encoding\u001b[38;5;241m=\u001b[39m\u001b[38;5;28mself\u001b[39m\u001b[38;5;241m.\u001b[39moptions\u001b[38;5;241m.\u001b[39mget(\u001b[38;5;124m\"\u001b[39m\u001b[38;5;124mencoding\u001b[39m\u001b[38;5;124m\"\u001b[39m, \u001b[38;5;28;01mNone\u001b[39;00m),\n\u001b[0;32m   1884\u001b[0m     compression\u001b[38;5;241m=\u001b[39m\u001b[38;5;28mself\u001b[39m\u001b[38;5;241m.\u001b[39moptions\u001b[38;5;241m.\u001b[39mget(\u001b[38;5;124m\"\u001b[39m\u001b[38;5;124mcompression\u001b[39m\u001b[38;5;124m\"\u001b[39m, \u001b[38;5;28;01mNone\u001b[39;00m),\n\u001b[0;32m   1885\u001b[0m     memory_map\u001b[38;5;241m=\u001b[39m\u001b[38;5;28mself\u001b[39m\u001b[38;5;241m.\u001b[39moptions\u001b[38;5;241m.\u001b[39mget(\u001b[38;5;124m\"\u001b[39m\u001b[38;5;124mmemory_map\u001b[39m\u001b[38;5;124m\"\u001b[39m, \u001b[38;5;28;01mFalse\u001b[39;00m),\n\u001b[0;32m   1886\u001b[0m     is_text\u001b[38;5;241m=\u001b[39mis_text,\n\u001b[0;32m   1887\u001b[0m     errors\u001b[38;5;241m=\u001b[39m\u001b[38;5;28mself\u001b[39m\u001b[38;5;241m.\u001b[39moptions\u001b[38;5;241m.\u001b[39mget(\u001b[38;5;124m\"\u001b[39m\u001b[38;5;124mencoding_errors\u001b[39m\u001b[38;5;124m\"\u001b[39m, \u001b[38;5;124m\"\u001b[39m\u001b[38;5;124mstrict\u001b[39m\u001b[38;5;124m\"\u001b[39m),\n\u001b[0;32m   1888\u001b[0m     storage_options\u001b[38;5;241m=\u001b[39m\u001b[38;5;28mself\u001b[39m\u001b[38;5;241m.\u001b[39moptions\u001b[38;5;241m.\u001b[39mget(\u001b[38;5;124m\"\u001b[39m\u001b[38;5;124mstorage_options\u001b[39m\u001b[38;5;124m\"\u001b[39m, \u001b[38;5;28;01mNone\u001b[39;00m),\n\u001b[0;32m   1889\u001b[0m )\n\u001b[0;32m   1890\u001b[0m \u001b[38;5;28;01massert\u001b[39;00m \u001b[38;5;28mself\u001b[39m\u001b[38;5;241m.\u001b[39mhandles \u001b[38;5;129;01mis\u001b[39;00m \u001b[38;5;129;01mnot\u001b[39;00m \u001b[38;5;28;01mNone\u001b[39;00m\n\u001b[0;32m   1891\u001b[0m f \u001b[38;5;241m=\u001b[39m \u001b[38;5;28mself\u001b[39m\u001b[38;5;241m.\u001b[39mhandles\u001b[38;5;241m.\u001b[39mhandle\n",
      "File \u001b[1;32m~\\anaconda3\\Lib\\site-packages\\pandas\\io\\common.py:873\u001b[0m, in \u001b[0;36mget_handle\u001b[1;34m(path_or_buf, mode, encoding, compression, memory_map, is_text, errors, storage_options)\u001b[0m\n\u001b[0;32m    868\u001b[0m \u001b[38;5;28;01melif\u001b[39;00m \u001b[38;5;28misinstance\u001b[39m(handle, \u001b[38;5;28mstr\u001b[39m):\n\u001b[0;32m    869\u001b[0m     \u001b[38;5;66;03m# Check whether the filename is to be opened in binary mode.\u001b[39;00m\n\u001b[0;32m    870\u001b[0m     \u001b[38;5;66;03m# Binary mode does not support 'encoding' and 'newline'.\u001b[39;00m\n\u001b[0;32m    871\u001b[0m     \u001b[38;5;28;01mif\u001b[39;00m ioargs\u001b[38;5;241m.\u001b[39mencoding \u001b[38;5;129;01mand\u001b[39;00m \u001b[38;5;124m\"\u001b[39m\u001b[38;5;124mb\u001b[39m\u001b[38;5;124m\"\u001b[39m \u001b[38;5;129;01mnot\u001b[39;00m \u001b[38;5;129;01min\u001b[39;00m ioargs\u001b[38;5;241m.\u001b[39mmode:\n\u001b[0;32m    872\u001b[0m         \u001b[38;5;66;03m# Encoding\u001b[39;00m\n\u001b[1;32m--> 873\u001b[0m         handle \u001b[38;5;241m=\u001b[39m \u001b[38;5;28mopen\u001b[39m(\n\u001b[0;32m    874\u001b[0m             handle,\n\u001b[0;32m    875\u001b[0m             ioargs\u001b[38;5;241m.\u001b[39mmode,\n\u001b[0;32m    876\u001b[0m             encoding\u001b[38;5;241m=\u001b[39mioargs\u001b[38;5;241m.\u001b[39mencoding,\n\u001b[0;32m    877\u001b[0m             errors\u001b[38;5;241m=\u001b[39merrors,\n\u001b[0;32m    878\u001b[0m             newline\u001b[38;5;241m=\u001b[39m\u001b[38;5;124m\"\u001b[39m\u001b[38;5;124m\"\u001b[39m,\n\u001b[0;32m    879\u001b[0m         )\n\u001b[0;32m    880\u001b[0m     \u001b[38;5;28;01melse\u001b[39;00m:\n\u001b[0;32m    881\u001b[0m         \u001b[38;5;66;03m# Binary mode\u001b[39;00m\n\u001b[0;32m    882\u001b[0m         handle \u001b[38;5;241m=\u001b[39m \u001b[38;5;28mopen\u001b[39m(handle, ioargs\u001b[38;5;241m.\u001b[39mmode)\n",
      "\u001b[1;31mFileNotFoundError\u001b[0m: [Errno 2] No such file or directory: '/content/drive/MyDrive/Colab Notebooks/depth20_1000ms.csv'"
     ]
    }
   ],
   "source": [
    "import pandas as pd\n",
    "import matplotlib.pyplot as plt\n",
    "\n",
    "# Load the datasets\n",
    "depth20_1000ms = pd.read_csv('/content/drive/MyDrive/Colab Notebooks/depth20_1000ms.csv')\n",
    "agg_trade = pd.read_csv('/content/drive/MyDrive/Colab Notebooks/aggTrade.csv')\n",
    "\n",
    "# Define the time cleaning function\n",
    "def clean_time_column(col):\n",
    "    col = col.astype(str)  # ensure all values are strings\n",
    "    col = col.str.replace(r'\\s\\+0530\\sIST', '', regex=True)  # remove timezone\n",
    "    col = col.str.slice(0, 26)  # truncate to microsecond precision\n",
    "    return pd.to_datetime(col, errors='coerce')  # convert to datetime\n",
    "\n",
    "# Clean and convert time columns\n",
    "depth20_1000ms['Time'] = clean_time_column(depth20_1000ms['Time'])\n",
    "agg_trade['Time'] = clean_time_column(agg_trade['Time'])  # Fixed typo: 'agg_trade_1s' was undefined\n",
    "\n",
    "# Sanity check\n",
    "print(depth20_1000ms['Time'].head())\n",
    "print(agg_trade['Time'].head())\n"
   ]
  },
  {
   "cell_type": "code",
   "execution_count": 21,
   "id": "8d3ff053-fa66-4e7e-809a-ea5cc325c917",
   "metadata": {},
   "outputs": [
    {
     "ename": "NameError",
     "evalue": "name 'depth20_1000ms' is not defined",
     "output_type": "error",
     "traceback": [
      "\u001b[1;31m---------------------------------------------------------------------------\u001b[0m",
      "\u001b[1;31mNameError\u001b[0m                                 Traceback (most recent call last)",
      "Cell \u001b[1;32mIn[21], line 11\u001b[0m\n\u001b[0;32m      8\u001b[0m     \u001b[38;5;28;01mreturn\u001b[39;00m col\n\u001b[0;32m     10\u001b[0m \u001b[38;5;66;03m# Clean and parse time columns\u001b[39;00m\n\u001b[1;32m---> 11\u001b[0m depth20_1000ms[\u001b[38;5;124m'\u001b[39m\u001b[38;5;124mTime\u001b[39m\u001b[38;5;124m'\u001b[39m] \u001b[38;5;241m=\u001b[39m clean_time_column(depth20_1000ms[\u001b[38;5;124m'\u001b[39m\u001b[38;5;124mTime\u001b[39m\u001b[38;5;124m'\u001b[39m])\n\u001b[0;32m     12\u001b[0m agg_trade_1s[\u001b[38;5;124m'\u001b[39m\u001b[38;5;124mTime\u001b[39m\u001b[38;5;124m'\u001b[39m] \u001b[38;5;241m=\u001b[39m clean_time_column(agg_trade_1s[\u001b[38;5;124m'\u001b[39m\u001b[38;5;124mTime\u001b[39m\u001b[38;5;124m'\u001b[39m])\n\u001b[0;32m     14\u001b[0m depth20_1000ms[\u001b[38;5;124m'\u001b[39m\u001b[38;5;124mTime\u001b[39m\u001b[38;5;124m'\u001b[39m] \u001b[38;5;241m=\u001b[39m pd\u001b[38;5;241m.\u001b[39mto_datetime(depth20_1000ms[\u001b[38;5;124m'\u001b[39m\u001b[38;5;124mTime\u001b[39m\u001b[38;5;124m'\u001b[39m], errors\u001b[38;5;241m=\u001b[39m\u001b[38;5;124m'\u001b[39m\u001b[38;5;124mcoerce\u001b[39m\u001b[38;5;124m'\u001b[39m)\n",
      "\u001b[1;31mNameError\u001b[0m: name 'depth20_1000ms' is not defined"
     ]
    }
   ],
   "source": [
    "def clean_time_column(col):\n",
    "    # Force everything to string first\n",
    "    col = col.astype(str)\n",
    "\n",
    "    # Remove '+0530 IST' and trim excess nanosecond-level precision\n",
    "    col = col.str.replace(r'\\s\\+0530\\sIST', '', regex=True)\n",
    "    col = col.str.slice(0, 26)  # Keep up to microseconds\n",
    "    return col\n",
    "\n",
    "# Clean and parse time columns\n",
    "depth20_1000ms['Time'] = clean_time_column(depth20_1000ms['Time'])\n",
    "agg_trade_1s['Time'] = clean_time_column(agg_trade_1s['Time'])\n",
    "\n",
    "depth20_1000ms['Time'] = pd.to_datetime(depth20_1000ms['Time'], errors='coerce')\n",
    "agg_trade_1s['Time'] = pd.to_datetime(agg_trade_1s['Time'], errors='coerce')\n"
   ]
  },
  {
   "cell_type": "code",
   "execution_count": 23,
   "id": "e752e7e8-25a4-49c7-be59-e4839716ee78",
   "metadata": {},
   "outputs": [
    {
     "name": "stdout",
     "output_type": "stream",
     "text": [
      "DEPTH20 HEAD:\n"
     ]
    },
    {
     "ename": "NameError",
     "evalue": "name 'depth20_1000ms' is not defined",
     "output_type": "error",
     "traceback": [
      "\u001b[1;31m---------------------------------------------------------------------------\u001b[0m",
      "\u001b[1;31mNameError\u001b[0m                                 Traceback (most recent call last)",
      "Cell \u001b[1;32mIn[23], line 3\u001b[0m\n\u001b[0;32m      1\u001b[0m \u001b[38;5;66;03m# Check structure\u001b[39;00m\n\u001b[0;32m      2\u001b[0m \u001b[38;5;28mprint\u001b[39m(\u001b[38;5;124m\"\u001b[39m\u001b[38;5;124mDEPTH20 HEAD:\u001b[39m\u001b[38;5;124m\"\u001b[39m)\n\u001b[1;32m----> 3\u001b[0m \u001b[38;5;28mprint\u001b[39m(depth20_1000ms\u001b[38;5;241m.\u001b[39mhead())\n\u001b[0;32m      4\u001b[0m \u001b[38;5;28mprint\u001b[39m(\u001b[38;5;124m\"\u001b[39m\u001b[38;5;130;01m\\n\u001b[39;00m\u001b[38;5;124mAGG_TRADE HEAD:\u001b[39m\u001b[38;5;124m\"\u001b[39m)\n\u001b[0;32m      5\u001b[0m \u001b[38;5;28mprint\u001b[39m(agg_trade\u001b[38;5;241m.\u001b[39mhead())\n",
      "\u001b[1;31mNameError\u001b[0m: name 'depth20_1000ms' is not defined"
     ]
    }
   ],
   "source": [
    "# Check structure\n",
    "print(\"DEPTH20 HEAD:\")\n",
    "print(depth20_1000ms.head())\n",
    "print(\"\\nAGG_TRADE HEAD:\")\n",
    "print(agg_trade.head())\n",
    "\n",
    "# Check for missing values\n",
    "print(\"\\nMissing values in depth20:\")\n",
    "print(depth20_1000ms.isnull().sum())\n",
    "\n",
    "print(\"\\nMissing values in agg_trade:\")\n",
    "print(agg_trade.isnull().sum())\n",
    "\n"
   ]
  },
  {
   "cell_type": "code",
   "execution_count": 25,
   "id": "06632d29-0b66-42d3-810b-9b42e519b691",
   "metadata": {},
   "outputs": [
    {
     "ename": "NameError",
     "evalue": "name 'depth20_1000ms' is not defined",
     "output_type": "error",
     "traceback": [
      "\u001b[1;31m---------------------------------------------------------------------------\u001b[0m",
      "\u001b[1;31mNameError\u001b[0m                                 Traceback (most recent call last)",
      "Cell \u001b[1;32mIn[25], line 1\u001b[0m\n\u001b[1;32m----> 1\u001b[0m depth20_1000ms[\u001b[38;5;124m'\u001b[39m\u001b[38;5;124mMidPrice\u001b[39m\u001b[38;5;124m'\u001b[39m] \u001b[38;5;241m=\u001b[39m (depth20_1000ms[\u001b[38;5;124m'\u001b[39m\u001b[38;5;124mBidPriceL1\u001b[39m\u001b[38;5;124m'\u001b[39m] \u001b[38;5;241m+\u001b[39m depth20_1000ms[\u001b[38;5;124m'\u001b[39m\u001b[38;5;124mAskPriceL1\u001b[39m\u001b[38;5;124m'\u001b[39m]) \u001b[38;5;241m/\u001b[39m \u001b[38;5;241m2\u001b[39m\n\u001b[0;32m      2\u001b[0m plt\u001b[38;5;241m.\u001b[39mfigure(figsize\u001b[38;5;241m=\u001b[39m(\u001b[38;5;241m14\u001b[39m,\u001b[38;5;241m5\u001b[39m))\n\u001b[0;32m      3\u001b[0m plt\u001b[38;5;241m.\u001b[39mplot(depth20_1000ms[\u001b[38;5;124m'\u001b[39m\u001b[38;5;124mTime\u001b[39m\u001b[38;5;124m'\u001b[39m], depth20_1000ms[\u001b[38;5;124m'\u001b[39m\u001b[38;5;124mMidPrice\u001b[39m\u001b[38;5;124m'\u001b[39m], label\u001b[38;5;241m=\u001b[39m\u001b[38;5;124m'\u001b[39m\u001b[38;5;124mMid Price\u001b[39m\u001b[38;5;124m'\u001b[39m, color\u001b[38;5;241m=\u001b[39m\u001b[38;5;124m'\u001b[39m\u001b[38;5;124mblue\u001b[39m\u001b[38;5;124m'\u001b[39m)\n",
      "\u001b[1;31mNameError\u001b[0m: name 'depth20_1000ms' is not defined"
     ]
    }
   ],
   "source": [
    "depth20_1000ms['MidPrice'] = (depth20_1000ms['BidPriceL1'] + depth20_1000ms['AskPriceL1']) / 2\n",
    "plt.figure(figsize=(14,5))\n",
    "plt.plot(depth20_1000ms['Time'], depth20_1000ms['MidPrice'], label='Mid Price', color='blue')\n",
    "plt.xlabel('Time')\n",
    "plt.ylabel('Mid Price')\n",
    "plt.title('Mid Price Over Time')\n",
    "plt.legend()\n",
    "plt.grid(True)\n",
    "plt.show()\n",
    "print(\"huh\")\n"
   ]
  },
  {
   "cell_type": "code",
   "execution_count": 27,
   "id": "a4e504f9-a42d-403b-ab1b-2c62730df77f",
   "metadata": {},
   "outputs": [
    {
     "ename": "NameError",
     "evalue": "name 'depth20_1000ms' is not defined",
     "output_type": "error",
     "traceback": [
      "\u001b[1;31m---------------------------------------------------------------------------\u001b[0m",
      "\u001b[1;31mNameError\u001b[0m                                 Traceback (most recent call last)",
      "Cell \u001b[1;32mIn[27], line 1\u001b[0m\n\u001b[1;32m----> 1\u001b[0m \u001b[38;5;28mprint\u001b[39m(depth20_1000ms\u001b[38;5;241m.\u001b[39mcolumns)\n",
      "\u001b[1;31mNameError\u001b[0m: name 'depth20_1000ms' is not defined"
     ]
    }
   ],
   "source": [
    "print(depth20_1000ms.columns)\n",
    "\n"
   ]
  },
  {
   "cell_type": "code",
   "execution_count": 29,
   "id": "c39ef55b-2308-453b-9aae-5eb92bb20eb3",
   "metadata": {},
   "outputs": [
    {
     "ename": "NameError",
     "evalue": "name 'depth20_1000ms' is not defined",
     "output_type": "error",
     "traceback": [
      "\u001b[1;31m---------------------------------------------------------------------------\u001b[0m",
      "\u001b[1;31mNameError\u001b[0m                                 Traceback (most recent call last)",
      "Cell \u001b[1;32mIn[29], line 6\u001b[0m\n\u001b[0;32m      3\u001b[0m \u001b[38;5;28;01mimport\u001b[39;00m \u001b[38;5;21;01mmatplotlib\u001b[39;00m\u001b[38;5;21;01m.\u001b[39;00m\u001b[38;5;21;01mpyplot\u001b[39;00m \u001b[38;5;28;01mas\u001b[39;00m \u001b[38;5;21;01mplt\u001b[39;00m\n\u001b[0;32m      5\u001b[0m \u001b[38;5;66;03m# === Load & sort ===\u001b[39;00m\n\u001b[1;32m----> 6\u001b[0m depth20_1000ms \u001b[38;5;241m=\u001b[39m depth20_1000ms\u001b[38;5;241m.\u001b[39msort_values(\u001b[38;5;124m'\u001b[39m\u001b[38;5;124mTime\u001b[39m\u001b[38;5;124m'\u001b[39m)\u001b[38;5;241m.\u001b[39mreset_index(drop\u001b[38;5;241m=\u001b[39m\u001b[38;5;28;01mTrue\u001b[39;00m)\n\u001b[0;32m      8\u001b[0m \u001b[38;5;66;03m# === 1. Extract best bid/ask price from all levels ===\u001b[39;00m\n\u001b[0;32m      9\u001b[0m bid_price_cols \u001b[38;5;241m=\u001b[39m [\u001b[38;5;124mf\u001b[39m\u001b[38;5;124m'\u001b[39m\u001b[38;5;124mBidPriceL\u001b[39m\u001b[38;5;132;01m{\u001b[39;00mi\u001b[38;5;132;01m}\u001b[39;00m\u001b[38;5;124m'\u001b[39m \u001b[38;5;28;01mfor\u001b[39;00m i \u001b[38;5;129;01min\u001b[39;00m \u001b[38;5;28mrange\u001b[39m(\u001b[38;5;241m1\u001b[39m, \u001b[38;5;241m21\u001b[39m)]\n",
      "\u001b[1;31mNameError\u001b[0m: name 'depth20_1000ms' is not defined"
     ]
    }
   ],
   "source": [
    "import pandas as pd\n",
    "import numpy as np\n",
    "import matplotlib.pyplot as plt\n",
    "\n",
    "# === Load & sort ===\n",
    "depth20_1000ms = depth20_1000ms.sort_values('Time').reset_index(drop=True)\n",
    "\n",
    "# === 1. Extract best bid/ask price from all levels ===\n",
    "bid_price_cols = [f'BidPriceL{i}' for i in range(1, 21)]\n",
    "ask_price_cols = [f'AskPriceL{i}' for i in range(1, 21)]\n",
    "bid_qty_cols = [f'BidQtyL{i}' for i in range(1, 21)]\n",
    "ask_qty_cols = [f'AskQtyL{i}' for i in range(1, 21)]\n",
    "\n",
    "# Best bid: row-wise max; best ask: row-wise min\n",
    "depth20_1000ms['best_bid_price'] = depth20_1000ms[bid_price_cols].max(axis=1)\n",
    "depth20_1000ms['best_ask_price'] = depth20_1000ms[ask_price_cols].min(axis=1)\n",
    "\n",
    "# Best bid qty: qty corresponding to best bid\n",
    "def get_best_qty(row, price_cols, qty_cols, is_bid=True):\n",
    "    prices = row[price_cols].values\n",
    "    qtys = row[qty_cols].values\n",
    "    if is_bid:\n",
    "        idx = prices.argmax()\n",
    "    else:\n",
    "        idx = prices.argmin()\n",
    "    return qtys[idx]"
   ]
  },
  {
   "cell_type": "code",
   "execution_count": 31,
   "id": "ecb92b48-f07c-48d6-a7c1-197330129862",
   "metadata": {},
   "outputs": [
    {
     "ename": "NameError",
     "evalue": "name 'depth20_1000ms' is not defined",
     "output_type": "error",
     "traceback": [
      "\u001b[1;31m---------------------------------------------------------------------------\u001b[0m",
      "\u001b[1;31mNameError\u001b[0m                                 Traceback (most recent call last)",
      "Cell \u001b[1;32mIn[31], line 1\u001b[0m\n\u001b[1;32m----> 1\u001b[0m depth20_1000ms[\u001b[38;5;124m'\u001b[39m\u001b[38;5;124mbid_qty\u001b[39m\u001b[38;5;124m'\u001b[39m] \u001b[38;5;241m=\u001b[39m depth20_1000ms\u001b[38;5;241m.\u001b[39mapply(\u001b[38;5;28;01mlambda\u001b[39;00m row: get_best_qty(row, bid_price_cols, bid_qty_cols, is_bid\u001b[38;5;241m=\u001b[39m\u001b[38;5;28;01mTrue\u001b[39;00m), axis\u001b[38;5;241m=\u001b[39m\u001b[38;5;241m1\u001b[39m)\n\u001b[0;32m      2\u001b[0m depth20_1000ms[\u001b[38;5;124m'\u001b[39m\u001b[38;5;124mask_qty\u001b[39m\u001b[38;5;124m'\u001b[39m] \u001b[38;5;241m=\u001b[39m depth20_1000ms\u001b[38;5;241m.\u001b[39mapply(\u001b[38;5;28;01mlambda\u001b[39;00m row: get_best_qty(row, ask_price_cols, ask_qty_cols, is_bid\u001b[38;5;241m=\u001b[39m\u001b[38;5;28;01mFalse\u001b[39;00m), axis\u001b[38;5;241m=\u001b[39m\u001b[38;5;241m1\u001b[39m)\n\u001b[0;32m      3\u001b[0m bid_qty_cols \u001b[38;5;241m=\u001b[39m [\u001b[38;5;124mf\u001b[39m\u001b[38;5;124m'\u001b[39m\u001b[38;5;124mBidQtyL\u001b[39m\u001b[38;5;132;01m{\u001b[39;00mi\u001b[38;5;132;01m}\u001b[39;00m\u001b[38;5;124m'\u001b[39m \u001b[38;5;28;01mfor\u001b[39;00m i \u001b[38;5;129;01min\u001b[39;00m \u001b[38;5;28mrange\u001b[39m(\u001b[38;5;241m1\u001b[39m, \u001b[38;5;241m21\u001b[39m)]\n",
      "\u001b[1;31mNameError\u001b[0m: name 'depth20_1000ms' is not defined"
     ]
    }
   ],
   "source": [
    "depth20_1000ms['bid_qty'] = depth20_1000ms.apply(lambda row: get_best_qty(row, bid_price_cols, bid_qty_cols, is_bid=True), axis=1)\n",
    "depth20_1000ms['ask_qty'] = depth20_1000ms.apply(lambda row: get_best_qty(row, ask_price_cols, ask_qty_cols, is_bid=False), axis=1)\n",
    "bid_qty_cols = [f'BidQtyL{i}' for i in range(1, 21)]\n",
    "ask_qty_cols = [f'AskQtyL{i}' for i in range(1, 21)]\n",
    "depth20_1000ms['obi_full'] = (depth20_1000ms[bid_qty_cols].sum(axis=1) - depth20_1000ms[ask_qty_cols].sum(axis=1)) / \\\n",
    "                      (depth20_1000ms[bid_qty_cols].sum(axis=1) + depth20_1000ms[ask_qty_cols].sum(axis=1))\n",
    "# === 2. Spread ===\n",
    "depth20_1000ms['Spread'] = depth20_1000ms['best_ask_price'] - depth20_1000ms['best_bid_price']\n",
    "\n",
    "# === 3. Rolling Volatility ===\n",
    "depth20_1000ms['MidPrice'] = (depth20_1000ms['best_ask_price'] + depth20_1000ms['best_bid_price']) / 2\n",
    "depth20_1000ms['LogReturn'] = np.log(depth20_1000ms['MidPrice'] / depth20_1000ms['MidPrice'].shift(1))\n",
    "depth20_1000ms['RollingVolatility'] = depth20_1000ms['LogReturn'].rolling(window=50).std()\n",
    "\n",
    "# === 4. Order Book Imbalance ===\n",
    "depth20_1000ms['obi_L1'] = (depth20_1000ms['BidQtyL1'] - depth20_1000ms['AskQtyL1']) / (depth20_1000ms['BidQtyL1'] + depth20_1000ms['AskQtyL1'])# Drop NaNs from rolling computations\n",
    "depth20_1000ms = depth20_1000ms.dropna(subset=['RollingVolatility'])\n",
    "\n",
    "# === 5. Plotting ===\n",
    "plt.figure(figsize=(15, 12))"
   ]
  },
  {
   "cell_type": "code",
   "execution_count": 33,
   "id": "82bbf64d-5367-453a-952e-2d83bc9e6525",
   "metadata": {},
   "outputs": [
    {
     "ename": "NameError",
     "evalue": "name 'depth20_1000ms' is not defined",
     "output_type": "error",
     "traceback": [
      "\u001b[1;31m---------------------------------------------------------------------------\u001b[0m",
      "\u001b[1;31mNameError\u001b[0m                                 Traceback (most recent call last)",
      "Cell \u001b[1;32mIn[33], line 3\u001b[0m\n\u001b[0;32m      1\u001b[0m \u001b[38;5;66;03m# Spread\u001b[39;00m\n\u001b[0;32m      2\u001b[0m plt\u001b[38;5;241m.\u001b[39msubplot(\u001b[38;5;241m3\u001b[39m, \u001b[38;5;241m1\u001b[39m, \u001b[38;5;241m1\u001b[39m)\n\u001b[1;32m----> 3\u001b[0m plt\u001b[38;5;241m.\u001b[39mplot(depth20_1000ms[\u001b[38;5;124m'\u001b[39m\u001b[38;5;124mTime\u001b[39m\u001b[38;5;124m'\u001b[39m], depth20_1000ms[\u001b[38;5;124m'\u001b[39m\u001b[38;5;124mSpread\u001b[39m\u001b[38;5;124m'\u001b[39m], color\u001b[38;5;241m=\u001b[39m\u001b[38;5;124m'\u001b[39m\u001b[38;5;124mblue\u001b[39m\u001b[38;5;124m'\u001b[39m)\n\u001b[0;32m      4\u001b[0m plt\u001b[38;5;241m.\u001b[39mylabel(\u001b[38;5;124m'\u001b[39m\u001b[38;5;124mSpread\u001b[39m\u001b[38;5;124m'\u001b[39m)\n\u001b[0;32m      5\u001b[0m plt\u001b[38;5;241m.\u001b[39mtitle(\u001b[38;5;124m'\u001b[39m\u001b[38;5;124mBid-Ask Spread Over Time\u001b[39m\u001b[38;5;124m'\u001b[39m)\n",
      "\u001b[1;31mNameError\u001b[0m: name 'depth20_1000ms' is not defined"
     ]
    },
    {
     "data": {
      "image/png": "[encoded data removed]",
      "text/plain": [
       "<Figure size 640x480 with 1 Axes>"
      ]
     },
     "metadata": {},
     "output_type": "display_data"
    }
   ],
   "source": [
    "# Spread\n",
    "plt.subplot(3, 1, 1)\n",
    "plt.plot(depth20_1000ms['Time'], depth20_1000ms['Spread'], color='blue')\n",
    "plt.ylabel('Spread')\n",
    "plt.title('Bid-Ask Spread Over Time')\n",
    "plt.grid(True)\n",
    "\n",
    "# Rolling Volatility\n",
    "plt.subplot(3, 1, 2)\n",
    "plt.plot(depth20_1000ms['Time'], depth20_1000ms['RollingVolatility'], color='orange')\n",
    "plt.ylabel('Volatility')\n",
    "plt.title('Rolling Volatility of Mid Price')\n",
    "plt.grid(True)\n",
    "\n",
    "# OBI\n",
    "plt.subplot(3, 1, 3)\n",
    "plt.plot(depth20_1000ms['Time'], depth20_1000ms['OBI'], color='green')\n",
    "plt.ylabel('OBI')\n",
    "plt.title('Order Book Imbalance')\n",
    "plt.grid(True)\n",
    "\n",
    "plt.tight_layout()\n",
    "plt.show()\n",
    "import matplotlib.pyplot as plt\n",
    "\n",
    "# Ensure 'Time' column is datetime and sorted\n",
    "depth20 = depth20.sort_values('Time')\n",
    "depth20['Time'] = pd.to_datetime(depth20['Time'], errors='coerce')\n",
    "\n",
    "# Drop rows with NaT or NaNs in obi_full\n",
    "depth20 = depth20.dropna(subset=['Time', 'obi_full'])\n",
    "\n",
    "# Plot\n",
    "plt.figure(figsize=(14, 6))\n",
    "plt.plot(depth20['Time'], depth20['obi_full'], color='steelblue', label='OBI Full Depth (20 levels)')\n",
    "plt.title('Order Book Imbalance (Full Depth - 20 Levels) Over Time')\n",
    "plt.xlabel('Time')\n",
    "plt.ylabel('OBI_Full')\n",
    "plt.grid(True)\n",
    "plt.legend()\n",
    "plt.tight_layout()\n",
    "plt.show()\n",
    "\n"
   ]
  },
  {
   "cell_type": "code",
   "execution_count": 35,
   "id": "a1cd8e97-46cd-409c-835f-b8c0204c08fb",
   "metadata": {},
   "outputs": [
    {
     "ename": "FileNotFoundError",
     "evalue": "[Errno 2] No such file or directory: '/content/drive/MyDrive/Colab Notebooks/aggTrade.csv'",
     "output_type": "error",
     "traceback": [
      "\u001b[1;31m---------------------------------------------------------------------------\u001b[0m",
      "\u001b[1;31mFileNotFoundError\u001b[0m                         Traceback (most recent call last)",
      "Cell \u001b[1;32mIn[35], line 6\u001b[0m\n\u001b[0;32m      3\u001b[0m \u001b[38;5;28;01mimport\u001b[39;00m \u001b[38;5;21;01mmatplotlib\u001b[39;00m\u001b[38;5;21;01m.\u001b[39;00m\u001b[38;5;21;01mpyplot\u001b[39;00m \u001b[38;5;28;01mas\u001b[39;00m \u001b[38;5;21;01mplt\u001b[39;00m\n\u001b[0;32m      5\u001b[0m \u001b[38;5;66;03m# === Load aggTrade data ===\u001b[39;00m\n\u001b[1;32m----> 6\u001b[0m agg_trade \u001b[38;5;241m=\u001b[39m pd\u001b[38;5;241m.\u001b[39mread_csv(\u001b[38;5;124m'\u001b[39m\u001b[38;5;124m/content/drive/MyDrive/Colab Notebooks/aggTrade.csv\u001b[39m\u001b[38;5;124m'\u001b[39m)\n\u001b[0;32m      8\u001b[0m \u001b[38;5;66;03m# === Clean and parse Time ===\u001b[39;00m\n\u001b[0;32m      9\u001b[0m \u001b[38;5;28;01mdef\u001b[39;00m \u001b[38;5;21mclean_time_column\u001b[39m(col):\n",
      "File \u001b[1;32m~\\anaconda3\\Lib\\site-packages\\pandas\\io\\parsers\\readers.py:1026\u001b[0m, in \u001b[0;36mread_csv\u001b[1;34m(filepath_or_buffer, sep, delimiter, header, names, index_col, usecols, dtype, engine, converters, true_values, false_values, skipinitialspace, skiprows, skipfooter, nrows, na_values, keep_default_na, na_filter, verbose, skip_blank_lines, parse_dates, infer_datetime_format, keep_date_col, date_parser, date_format, dayfirst, cache_dates, iterator, chunksize, compression, thousands, decimal, lineterminator, quotechar, quoting, doublequote, escapechar, comment, encoding, encoding_errors, dialect, on_bad_lines, delim_whitespace, low_memory, memory_map, float_precision, storage_options, dtype_backend)\u001b[0m\n\u001b[0;32m   1013\u001b[0m kwds_defaults \u001b[38;5;241m=\u001b[39m _refine_defaults_read(\n\u001b[0;32m   1014\u001b[0m     dialect,\n\u001b[0;32m   1015\u001b[0m     delimiter,\n\u001b[1;32m   (...)\u001b[0m\n\u001b[0;32m   1022\u001b[0m     dtype_backend\u001b[38;5;241m=\u001b[39mdtype_backend,\n\u001b[0;32m   1023\u001b[0m )\n\u001b[0;32m   1024\u001b[0m kwds\u001b[38;5;241m.\u001b[39mupdate(kwds_defaults)\n\u001b[1;32m-> 1026\u001b[0m \u001b[38;5;28;01mreturn\u001b[39;00m _read(filepath_or_buffer, kwds)\n",
      "File \u001b[1;32m~\\anaconda3\\Lib\\site-packages\\pandas\\io\\parsers\\readers.py:620\u001b[0m, in \u001b[0;36m_read\u001b[1;34m(filepath_or_buffer, kwds)\u001b[0m\n\u001b[0;32m    617\u001b[0m _validate_names(kwds\u001b[38;5;241m.\u001b[39mget(\u001b[38;5;124m\"\u001b[39m\u001b[38;5;124mnames\u001b[39m\u001b[38;5;124m\"\u001b[39m, \u001b[38;5;28;01mNone\u001b[39;00m))\n\u001b[0;32m    619\u001b[0m \u001b[38;5;66;03m# Create the parser.\u001b[39;00m\n\u001b[1;32m--> 620\u001b[0m parser \u001b[38;5;241m=\u001b[39m TextFileReader(filepath_or_buffer, \u001b[38;5;241m*\u001b[39m\u001b[38;5;241m*\u001b[39mkwds)\n\u001b[0;32m    622\u001b[0m \u001b[38;5;28;01mif\u001b[39;00m chunksize \u001b[38;5;129;01mor\u001b[39;00m iterator:\n\u001b[0;32m    623\u001b[0m     \u001b[38;5;28;01mreturn\u001b[39;00m parser\n",
      "File \u001b[1;32m~\\anaconda3\\Lib\\site-packages\\pandas\\io\\parsers\\readers.py:1620\u001b[0m, in \u001b[0;36mTextFileReader.__init__\u001b[1;34m(self, f, engine, **kwds)\u001b[0m\n\u001b[0;32m   1617\u001b[0m     \u001b[38;5;28mself\u001b[39m\u001b[38;5;241m.\u001b[39moptions[\u001b[38;5;124m\"\u001b[39m\u001b[38;5;124mhas_index_names\u001b[39m\u001b[38;5;124m\"\u001b[39m] \u001b[38;5;241m=\u001b[39m kwds[\u001b[38;5;124m\"\u001b[39m\u001b[38;5;124mhas_index_names\u001b[39m\u001b[38;5;124m\"\u001b[39m]\n\u001b[0;32m   1619\u001b[0m \u001b[38;5;28mself\u001b[39m\u001b[38;5;241m.\u001b[39mhandles: IOHandles \u001b[38;5;241m|\u001b[39m \u001b[38;5;28;01mNone\u001b[39;00m \u001b[38;5;241m=\u001b[39m \u001b[38;5;28;01mNone\u001b[39;00m\n\u001b[1;32m-> 1620\u001b[0m \u001b[38;5;28mself\u001b[39m\u001b[38;5;241m.\u001b[39m_engine \u001b[38;5;241m=\u001b[39m \u001b[38;5;28mself\u001b[39m\u001b[38;5;241m.\u001b[39m_make_engine(f, \u001b[38;5;28mself\u001b[39m\u001b[38;5;241m.\u001b[39mengine)\n",
      "File \u001b[1;32m~\\anaconda3\\Lib\\site-packages\\pandas\\io\\parsers\\readers.py:1880\u001b[0m, in \u001b[0;36mTextFileReader._make_engine\u001b[1;34m(self, f, engine)\u001b[0m\n\u001b[0;32m   1878\u001b[0m     \u001b[38;5;28;01mif\u001b[39;00m \u001b[38;5;124m\"\u001b[39m\u001b[38;5;124mb\u001b[39m\u001b[38;5;124m\"\u001b[39m \u001b[38;5;129;01mnot\u001b[39;00m \u001b[38;5;129;01min\u001b[39;00m mode:\n\u001b[0;32m   1879\u001b[0m         mode \u001b[38;5;241m+\u001b[39m\u001b[38;5;241m=\u001b[39m \u001b[38;5;124m\"\u001b[39m\u001b[38;5;124mb\u001b[39m\u001b[38;5;124m\"\u001b[39m\n\u001b[1;32m-> 1880\u001b[0m \u001b[38;5;28mself\u001b[39m\u001b[38;5;241m.\u001b[39mhandles \u001b[38;5;241m=\u001b[39m get_handle(\n\u001b[0;32m   1881\u001b[0m     f,\n\u001b[0;32m   1882\u001b[0m     mode,\n\u001b[0;32m   1883\u001b[0m     encoding\u001b[38;5;241m=\u001b[39m\u001b[38;5;28mself\u001b[39m\u001b[38;5;241m.\u001b[39moptions\u001b[38;5;241m.\u001b[39mget(\u001b[38;5;124m\"\u001b[39m\u001b[38;5;124mencoding\u001b[39m\u001b[38;5;124m\"\u001b[39m, \u001b[38;5;28;01mNone\u001b[39;00m),\n\u001b[0;32m   1884\u001b[0m     compression\u001b[38;5;241m=\u001b[39m\u001b[38;5;28mself\u001b[39m\u001b[38;5;241m.\u001b[39moptions\u001b[38;5;241m.\u001b[39mget(\u001b[38;5;124m\"\u001b[39m\u001b[38;5;124mcompression\u001b[39m\u001b[38;5;124m\"\u001b[39m, \u001b[38;5;28;01mNone\u001b[39;00m),\n\u001b[0;32m   1885\u001b[0m     memory_map\u001b[38;5;241m=\u001b[39m\u001b[38;5;28mself\u001b[39m\u001b[38;5;241m.\u001b[39moptions\u001b[38;5;241m.\u001b[39mget(\u001b[38;5;124m\"\u001b[39m\u001b[38;5;124mmemory_map\u001b[39m\u001b[38;5;124m\"\u001b[39m, \u001b[38;5;28;01mFalse\u001b[39;00m),\n\u001b[0;32m   1886\u001b[0m     is_text\u001b[38;5;241m=\u001b[39mis_text,\n\u001b[0;32m   1887\u001b[0m     errors\u001b[38;5;241m=\u001b[39m\u001b[38;5;28mself\u001b[39m\u001b[38;5;241m.\u001b[39moptions\u001b[38;5;241m.\u001b[39mget(\u001b[38;5;124m\"\u001b[39m\u001b[38;5;124mencoding_errors\u001b[39m\u001b[38;5;124m\"\u001b[39m, \u001b[38;5;124m\"\u001b[39m\u001b[38;5;124mstrict\u001b[39m\u001b[38;5;124m\"\u001b[39m),\n\u001b[0;32m   1888\u001b[0m     storage_options\u001b[38;5;241m=\u001b[39m\u001b[38;5;28mself\u001b[39m\u001b[38;5;241m.\u001b[39moptions\u001b[38;5;241m.\u001b[39mget(\u001b[38;5;124m\"\u001b[39m\u001b[38;5;124mstorage_options\u001b[39m\u001b[38;5;124m\"\u001b[39m, \u001b[38;5;28;01mNone\u001b[39;00m),\n\u001b[0;32m   1889\u001b[0m )\n\u001b[0;32m   1890\u001b[0m \u001b[38;5;28;01massert\u001b[39;00m \u001b[38;5;28mself\u001b[39m\u001b[38;5;241m.\u001b[39mhandles \u001b[38;5;129;01mis\u001b[39;00m \u001b[38;5;129;01mnot\u001b[39;00m \u001b[38;5;28;01mNone\u001b[39;00m\n\u001b[0;32m   1891\u001b[0m f \u001b[38;5;241m=\u001b[39m \u001b[38;5;28mself\u001b[39m\u001b[38;5;241m.\u001b[39mhandles\u001b[38;5;241m.\u001b[39mhandle\n",
      "File \u001b[1;32m~\\anaconda3\\Lib\\site-packages\\pandas\\io\\common.py:873\u001b[0m, in \u001b[0;36mget_handle\u001b[1;34m(path_or_buf, mode, encoding, compression, memory_map, is_text, errors, storage_options)\u001b[0m\n\u001b[0;32m    868\u001b[0m \u001b[38;5;28;01melif\u001b[39;00m \u001b[38;5;28misinstance\u001b[39m(handle, \u001b[38;5;28mstr\u001b[39m):\n\u001b[0;32m    869\u001b[0m     \u001b[38;5;66;03m# Check whether the filename is to be opened in binary mode.\u001b[39;00m\n\u001b[0;32m    870\u001b[0m     \u001b[38;5;66;03m# Binary mode does not support 'encoding' and 'newline'.\u001b[39;00m\n\u001b[0;32m    871\u001b[0m     \u001b[38;5;28;01mif\u001b[39;00m ioargs\u001b[38;5;241m.\u001b[39mencoding \u001b[38;5;129;01mand\u001b[39;00m \u001b[38;5;124m\"\u001b[39m\u001b[38;5;124mb\u001b[39m\u001b[38;5;124m\"\u001b[39m \u001b[38;5;129;01mnot\u001b[39;00m \u001b[38;5;129;01min\u001b[39;00m ioargs\u001b[38;5;241m.\u001b[39mmode:\n\u001b[0;32m    872\u001b[0m         \u001b[38;5;66;03m# Encoding\u001b[39;00m\n\u001b[1;32m--> 873\u001b[0m         handle \u001b[38;5;241m=\u001b[39m \u001b[38;5;28mopen\u001b[39m(\n\u001b[0;32m    874\u001b[0m             handle,\n\u001b[0;32m    875\u001b[0m             ioargs\u001b[38;5;241m.\u001b[39mmode,\n\u001b[0;32m    876\u001b[0m             encoding\u001b[38;5;241m=\u001b[39mioargs\u001b[38;5;241m.\u001b[39mencoding,\n\u001b[0;32m    877\u001b[0m             errors\u001b[38;5;241m=\u001b[39merrors,\n\u001b[0;32m    878\u001b[0m             newline\u001b[38;5;241m=\u001b[39m\u001b[38;5;124m\"\u001b[39m\u001b[38;5;124m\"\u001b[39m,\n\u001b[0;32m    879\u001b[0m         )\n\u001b[0;32m    880\u001b[0m     \u001b[38;5;28;01melse\u001b[39;00m:\n\u001b[0;32m    881\u001b[0m         \u001b[38;5;66;03m# Binary mode\u001b[39;00m\n\u001b[0;32m    882\u001b[0m         handle \u001b[38;5;241m=\u001b[39m \u001b[38;5;28mopen\u001b[39m(handle, ioargs\u001b[38;5;241m.\u001b[39mmode)\n",
      "\u001b[1;31mFileNotFoundError\u001b[0m: [Errno 2] No such file or directory: '/content/drive/MyDrive/Colab Notebooks/aggTrade.csv'"
     ]
    }
   ],
   "source": [
    "import pandas as pd\n",
    "import numpy as np\n",
    "import matplotlib.pyplot as plt\n",
    "\n",
    "# === Load aggTrade data ===\n",
    "agg_trade = pd.read_csv('/content/drive/MyDrive/Colab Notebooks/aggTrade.csv')\n",
    "\n",
    "# === Clean and parse Time ===\n",
    "def clean_time_column(col):\n",
    "    col = col.astype(str)\n",
    "    col = col.str.replace(r'\\s\\+0530\\sIST', '', regex=True)\n",
    "    col = col.str.slice(0, 26)\n",
    "    return pd.to_datetime(col, errors='coerce')\n",
    "\n",
    "agg_trade['Time'] = clean_time_column(agg_trade['Time'])\n",
    "agg_trade = agg_trade.sort_values('Time').reset_index(drop=True)\n",
    "\n",
    "# === 1. Rolling Volatility of Trade Price ===\n",
    "agg_trade['PriceVolatility'] = agg_trade['Price'].rolling(window=50).std()\n",
    "\n",
    "# === 2. Rolling Average Trade Size ===\n",
    "agg_trade['AvgTradeSize'] = agg_trade['Quantity'].rolling(window=50).mean()\n",
    "\n",
    "# === 3. Buy/Sell Imbalance Indicator ===\n",
    "# Buy = ~IsMarketMaker, Sell = IsMarketMaker\n",
    "agg_trade['BuySellImbalance'] = np.where(agg_trade['IsMarketMaker'] == True, -1, 1)\n",
    "\n",
    "# Cumulative Buy/Sell Pressure\n",
    "agg_trade['CumulativeImbalance'] = agg_trade['BuySellImbalance'].cumsum()\n",
    "\n",
    "# Drop NaNs\n",
    "agg_trade = agg_trade.dropna(subset=['PriceVolatility', 'AvgTradeSize'])\n",
    "\n",
    "# === Plotting ===\n",
    "plt.figure(figsize=(15, 12))\n",
    "\n",
    "# Volatility\n",
    "plt.subplot(3, 1, 1)\n",
    "plt.plot(agg_trade['Time'], agg_trade['PriceVolatility'], color='purple')\n",
    "plt.ylabel('Price Volatility')\n",
    "plt.title('Rolling Trade Price Volatility')\n",
    "plt.grid(True)\n",
    "\n",
    "# Trade Size\n",
    "plt.subplot(3, 1, 2)\n",
    "plt.plot(agg_trade['Time'], agg_trade['AvgTradeSize'], color='teal')\n",
    "plt.ylabel('Avg Trade Size')\n",
    "plt.title('Rolling Avg Trade Size')\n",
    "plt.grid(True)\n",
    "\n",
    "# Buy/Sell Pressure\n",
    "plt.subplot(3, 1, 3)\n",
    "plt.plot(agg_trade['Time'], agg_trade['CumulativeImbalance'], color='darkred')\n",
    "plt.ylabel('Cumulative Imbalance')\n",
    "plt.title('Buy/Sell Imbalance Over Time')\n",
    "plt.grid(True)\n",
    "\n",
    "plt.tight_layout()\n",
    "plt.show()\n",
    "\n"
   ]
  },
  {
   "cell_type": "code",
   "execution_count": null,
   "id": "49029ec2-9294-4a21-bb87-ec8596c57ffa",
   "metadata": {},
   "outputs": [],
   "source": [
    "import pandas as pd\n",
    "import numpy as np\n",
    "from sklearn.preprocessing import StandardScaler\n",
    "\n",
    "# --- Step 1: Load cleaned datasets ---\n",
    "depth20 = pd.read_csv('/content/drive/MyDrive/Colab Notebooks/depth20_1000ms.csv')\n",
    "agg_trade = pd.read_csv('/content/drive/MyDrive/Colab Notebooks/aggTrade.csv')\n",
    "\n",
    "# Clean time\n",
    "def clean_time_column(col):\n",
    "    col = col.astype(str).str.replace(r'\\s\\+0530\\sIST', '', regex=True).str.slice(0, 26)\n",
    "    return pd.to_datetime(col, errors='coerce')\n",
    "\n",
    "depth20['Time'] = clean_time_column(depth20['Time'])\n",
    "agg_trade['Time'] = clean_time_column(agg_trade['Time'])\n",
    "\n",
    "# Sort\n",
    "depth20 = depth20.sort_values('Time').reset_index(drop=True)\n",
    "agg_trade = agg_trade.sort_values('Time').reset_index(drop=True)\n",
    "\n",
    "# --- Step 2: Generate market features ---\n",
    "\n",
    "# Best bid/ask price from full book\n",
    "bid_price_cols = [f'BidPriceL{i}' for i in range(1, 21)]\n",
    "ask_price_cols = [f'AskPriceL{i}' for i in range(1, 21)]\n",
    "depth20['best_bid'] = depth20[bid_price_cols].max(axis=1)\n",
    "depth20['best_ask'] = depth20[ask_price_cols].min(axis=1)\n",
    "\n",
    "# Mid price and spread\n",
    "depth20['mid_price'] = (depth20['best_bid'] + depth20['best_ask']) / 2\n",
    "depth20['spread'] = depth20['best_ask'] - depth20['best_bid']\n",
    "\n",
    "# Depth imbalance at top level\n",
    "depth20['bid_qty'] = depth20['BidQtyL1']\n",
    "depth20['ask_qty'] = depth20['AskQtyL1']\n",
    "depth20['obi'] = (depth20['bid_qty'] - depth20['ask_qty']) / (depth20['bid_qty'] + depth20['ask_qty'])\n",
    "\n",
    "# Volatility over rolling window\n",
    "depth20['log_return'] = np.log(depth20['mid_price'] / depth20['mid_price'].shift(1))\n",
    "depth20['volatility'] = depth20['log_return'].rolling(window=50).std()\n",
    "\n",
    "# Drop NaNs\n",
    "depth20 = depth20.dropna(subset=['volatility'])\n",
    "# --- Step 3: Select & Normalize features for clustering ---\n",
    "features = depth20[['spread', 'obi', 'volatility']]\n",
    "\n",
    "# Drop any remaining NaNs (just in case)\n",
    "features = features.dropna()\n",
    "\n",
    "# Normalize\n",
    "scaler = StandardScaler()\n",
    "normalized_features = scaler.fit_transform(features)\n",
    "\n",
    "# Convert back to DataFrame\n",
    "normalized_df = pd.DataFrame(normalized_features, columns=features.columns)\n",
    "\n",
    "# Optional: Save for clustering usage\n",
    "normalized_df.to_csv('/content/drive/MyDrive/Colab Notebooks/normalized_features_week3.csv', index=False)\n",
    "\n",
    "print(\" Normalized features saved. Ready for clustering.\")\n"
   ]
  }
 ],
 "metadata": {
  "kernelspec": {
   "display_name": "Python [conda env:base] *",
   "language": "python",
   "name": "conda-base-py"
  },
  "language_info": {
   "codemirror_mode": {
    "name": "ipython",
    "version": 3
   },
   "file_extension": ".py",
   "mimetype": "text/x-python",
   "name": "python",
   "nbconvert_exporter": "python",
   "pygments_lexer": "ipython3",
   "version": "3.12.7"
  }
 },
 "nbformat": 4,
 "nbformat_minor": 5
}
